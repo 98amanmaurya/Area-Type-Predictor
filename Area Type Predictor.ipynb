{
 "cells": [
  {
   "cell_type": "code",
   "execution_count": 1,
   "metadata": {},
   "outputs": [],
   "source": [
    "import pandas as pd"
   ]
  },
  {
   "cell_type": "code",
   "execution_count": 2,
   "metadata": {},
   "outputs": [],
   "source": [
    "\n",
    "mydata=pd.read_csv(r\"https://raw.githubusercontent.com/98amanmaurya/Area-Type-Predictor/b301f1072a785cbfe4865eb74a514ac3638e93f7/project.csv\")"
   ]
  },
  {
   "cell_type": "code",
   "execution_count": 3,
   "metadata": {},
   "outputs": [],
   "source": [
    "Xdata=mydata.iloc[:,:4]\n",
    "Ydata=mydata.iloc[:,4:5]\n"
   ]
  },
  {
   "cell_type": "code",
   "execution_count": 4,
   "metadata": {},
   "outputs": [],
   "source": [
    "from sklearn.model_selection import train_test_split\n"
   ]
  },
  {
   "cell_type": "code",
   "execution_count": 5,
   "metadata": {},
   "outputs": [],
   "source": [
    "Xtrain,Xtest,Ytrain,Ytest=train_test_split(Xdata,Ydata,test_size=.3,random_state=101)\n"
   ]
  },
  {
   "cell_type": "code",
   "execution_count": 6,
   "metadata": {},
   "outputs": [],
   "source": [
    "from sklearn.naive_bayes import GaussianNB,MultinomialNB,BernoulliNB\n",
    "from sklearn.neighbors import KNeighborsClassifier\n"
   ]
  },
  {
   "cell_type": "code",
   "execution_count": 7,
   "metadata": {},
   "outputs": [],
   "source": [
    "TeacherG=GaussianNB()\n",
    "TeacherB=BernoulliNB()\n",
    "TeacherM=MultinomialNB()\n",
    "TeacherK=KNeighborsClassifier()\n"
   ]
  },
  {
   "cell_type": "code",
   "execution_count": 8,
   "metadata": {},
   "outputs": [
    {
     "name": "stderr",
     "output_type": "stream",
     "text": [
      "C:\\Users\\Dell\\anaconda3\\lib\\site-packages\\sklearn\\naive_bayes.py:206: DataConversionWarning: A column-vector y was passed when a 1d array was expected. Please change the shape of y to (n_samples, ), for example using ravel().\n",
      "  y = column_or_1d(y, warn=True)\n",
      "C:\\Users\\Dell\\anaconda3\\lib\\site-packages\\sklearn\\utils\\validation.py:760: DataConversionWarning: A column-vector y was passed when a 1d array was expected. Please change the shape of y to (n_samples, ), for example using ravel().\n",
      "  y = column_or_1d(y, warn=True)\n",
      "C:\\Users\\Dell\\anaconda3\\lib\\site-packages\\sklearn\\utils\\validation.py:760: DataConversionWarning: A column-vector y was passed when a 1d array was expected. Please change the shape of y to (n_samples, ), for example using ravel().\n",
      "  y = column_or_1d(y, warn=True)\n",
      "C:\\Users\\Dell\\anaconda3\\lib\\site-packages\\ipykernel_launcher.py:4: DataConversionWarning: A column-vector y was passed when a 1d array was expected. Please change the shape of y to (n_samples, ), for example using ravel().\n",
      "  after removing the cwd from sys.path.\n"
     ]
    }
   ],
   "source": [
    "LearnerG=TeacherG.fit(Xtrain,Ytrain)\n",
    "LearnerB=TeacherB.fit(Xtrain,Ytrain)\n",
    "LearnerM=TeacherM.fit(Xtrain,Ytrain)\n",
    "LearnerK=TeacherK.fit(Xtrain,Ytrain)\n"
   ]
  },
  {
   "cell_type": "code",
   "execution_count": 9,
   "metadata": {},
   "outputs": [],
   "source": [
    "YpB=LearnerB.predict(Xtest)\n",
    "YpG=LearnerG.predict(Xtest)\n",
    "YpM=LearnerM.predict(Xtest)\n",
    "YpK=LearnerK.predict(Xtest)\n",
    "Ya=Ytest\n"
   ]
  },
  {
   "cell_type": "code",
   "execution_count": 10,
   "metadata": {},
   "outputs": [],
   "source": [
    "from sklearn.metrics import accuracy_score\n"
   ]
  },
  {
   "cell_type": "code",
   "execution_count": 11,
   "metadata": {},
   "outputs": [],
   "source": [
    "accG=accuracy_score(Ya,YpG)*100\n",
    "accB=accuracy_score(Ya,YpB)*100\n",
    "accM=accuracy_score(Ya,YpM)*100\n",
    "accK=accuracy_score(Ya,YpK)*100\n",
    "acc=[accG,accM,accB,accK]\n",
    "table=pd.DataFrame({\"Acc\":acc},index=[\"Gauss\",\"Multi\",\"Ber\",\"Knn\"])\n"
   ]
  },
  {
   "cell_type": "code",
   "execution_count": 12,
   "metadata": {},
   "outputs": [
    {
     "name": "stdout",
     "output_type": "stream",
     "text": [
      "             Acc\n",
      "Gauss  48.085607\n",
      "Multi  32.852775\n",
      "Ber    43.861712\n",
      "Knn    55.270461\n",
      "['Industrial Area']\n",
      "['Industrial Area']\n",
      "['Residential, Rural and other Areas']\n",
      "['Residential Area']\n"
     ]
    }
   ],
   "source": [
    "print(table)\n",
    "print(LearnerK.predict([[9.0,87.0,45.0,110.0]]))\n",
    "print(LearnerG.predict([[9.0,87.0,45.0,110.0]]))\n",
    "print(LearnerM.predict([[9.0,87.0,45.0,110.0]]))\n",
    "print(LearnerB.predict([[9.0,87.0,45.0,110.0]]))                "
   ]
  },
  {
   "cell_type": "code",
   "execution_count": null,
   "metadata": {},
   "outputs": [],
   "source": []
  }
 ],
 "metadata": {
  "kernelspec": {
   "display_name": "Python 3",
   "language": "python",
   "name": "python3"
  },
  "language_info": {
   "codemirror_mode": {
    "name": "ipython",
    "version": 3
   },
   "file_extension": ".py",
   "mimetype": "text/x-python",
   "name": "python",
   "nbconvert_exporter": "python",
   "pygments_lexer": "ipython3",
   "version": "3.7.6"
  }
 },
 "nbformat": 4,
 "nbformat_minor": 4
}
